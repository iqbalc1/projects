{
 "cells": [
  {
   "cell_type": "markdown",
   "metadata": {},
   "source": [
    "# Speech to text in Real World Scenario\n",
    "\n",
    "## Google Speech API\n",
    "\n",
    "\n",
    "\n",
    "- language details can be found [here](https://cloud.google.com/speech-to-text/docs/languages)"
   ]
  },
  {
   "cell_type": "code",
   "execution_count": 16,
   "metadata": {},
   "outputs": [
    {
     "name": "stdout",
     "output_type": "stream",
     "text": [
      "Say Something in German Please:\n",
      "Done!\n",
      "ich versuche zu überprüfen wie perfekt die Ergebnisse für dieses Modell sind\n",
      "ich versuche zu überprüfen wie perfekt die Ergebnisse für dieses Modell sind\n",
      "ich versuche zu überprüfen wie perfekt die Ergebnisse für dieses Modell sind\n",
      "Azucar to evaporation necessities\n"
     ]
    }
   ],
   "source": [
    "import speech_recognition as sr\n",
    "\n",
    "r = sr.Recognizer()\n",
    "\n",
    "with sr.Microphone() as source:\n",
    "    print('Say Something in German Please:')\n",
    "    audio = r.listen(source)\n",
    "    print ('Done!')\n",
    "\n",
    "text1 = r.recognize_google(audio, language = 'de-DE')\n",
    "text2 = r.recognize_google(audio, language = 'de-AT')\n",
    "text3 = r.recognize_google(audio, language = 'de-DE')\n",
    "print (text1)\n",
    "print (text2)\n",
    "print (text3)\n",
    "\n",
    "print (r.recognize_google(audio))"
   ]
  }
 ],
 "metadata": {
  "kernelspec": {
   "display_name": "Python 3.10.5 64-bit",
   "language": "python",
   "name": "python3"
  },
  "language_info": {
   "codemirror_mode": {
    "name": "ipython",
    "version": 3
   },
   "file_extension": ".py",
   "mimetype": "text/x-python",
   "name": "python",
   "nbconvert_exporter": "python",
   "pygments_lexer": "ipython3",
   "version": "3.10.5"
  },
  "orig_nbformat": 4,
  "vscode": {
   "interpreter": {
    "hash": "c1840497608826e95edb9ca3288ed76e181d972ed8c044b13b4557a573be3002"
   }
  }
 },
 "nbformat": 4,
 "nbformat_minor": 2
}
