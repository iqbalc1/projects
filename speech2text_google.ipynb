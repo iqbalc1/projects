{
 "cells": [
  {
   "cell_type": "code",
   "execution_count": 1,
   "id": "d6bde51f",
   "metadata": {},
   "outputs": [
    {
     "name": "stdout",
     "output_type": "stream",
     "text": [
      "Requirement already satisfied: speechrecognition in c:\\users\\iqbalc\\anaconda3\\lib\\site-packages (3.8.1)\n"
     ]
    }
   ],
   "source": [
    "!pip install speechrecognition\n"
   ]
  },
  {
   "cell_type": "code",
   "execution_count": 4,
   "id": "bca4d461",
   "metadata": {},
   "outputs": [
    {
     "name": "stdout",
     "output_type": "stream",
     "text": [
      "beteiligte zum angeben\n"
     ]
    }
   ],
   "source": [
    "import speech_recognition as sr\n",
    "\n",
    "# initialize the recognizer\n",
    "r = sr.Recognizer()\n",
    "with sr.AudioFile('test_audio_1.wav') as source:\n",
    "    audio_text = r.listen(source)\n",
    "speech= r.recognize_google(audio_text, show_all=False, language= 'de-DE')\n",
    "print(speech)"
   ]
  },
  {
   "cell_type": "code",
   "execution_count": null,
   "id": "dbbfae26",
   "metadata": {},
   "outputs": [],
   "source": []
  }
 ],
 "metadata": {
  "kernelspec": {
   "display_name": "Python 3 (ipykernel)",
   "language": "python",
   "name": "python3"
  },
  "language_info": {
   "codemirror_mode": {
    "name": "ipython",
    "version": 3
   },
   "file_extension": ".py",
   "mimetype": "text/x-python",
   "name": "python",
   "nbconvert_exporter": "python",
   "pygments_lexer": "ipython3",
   "version": "3.9.12"
  }
 },
 "nbformat": 4,
 "nbformat_minor": 5
}
